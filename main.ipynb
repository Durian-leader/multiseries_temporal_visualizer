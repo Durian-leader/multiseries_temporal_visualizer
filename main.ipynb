{
 "cells": [
  {
   "cell_type": "code",
   "execution_count": 1,
   "metadata": {},
   "outputs": [],
   "source": [
    "import os\n",
    "from utils.dataprocess.vibration_data_loader import VibrationDataLoader  \n",
    "from utils.dataprocess.start_idx_visualized_select import StartIdxVisualizedSelect\n",
    "from utils.dataprocess.debiasing import debias_csv_folder\n",
    "from utils.visualize.data_processor import DataProcessor\n",
    "from utils.visualize.visualization_generator import VisualizationGenerator\n",
    "from loguru import logger\n",
    "import sys\n",
    "from utils.visualize.extract_timepoint import extract_timepoint_data, visualize_grid,export_filename_grid\n",
    "import pandas as pd\n",
    "import matplotlib\n",
    "# Set up the matplotlib backend explicitly\n",
    "matplotlib.use('TkAgg')  # Use TkAgg backend which has good button support"
   ]
  },
  {
   "cell_type": "code",
   "execution_count": 30,
   "metadata": {},
   "outputs": [],
   "source": [
    "# 配置日志记录\n",
    "logger.configure(handlers=[{\"sink\": sys.stdout, \"level\": \"INFO\"},\n",
    "                           {\"sink\": \"logs/log.log\", \"level\": \"INFO\"}])\n",
    "\n",
    "# 确保输出目录存在\n",
    "os.makedirs('output', exist_ok=True)\n",
    "os.makedirs('logs', exist_ok=True)\n",
    "os.makedirs('output/data_csv', exist_ok=True)\n",
    "os.makedirs('output/data_csv_start-idx-reselected', exist_ok=True)\n",
    "os.makedirs('output/data_csv_start-idx-reselected_debiased', exist_ok=True)"
   ]
  },
  {
   "cell_type": "code",
   "execution_count": null,
   "metadata": {},
   "outputs": [],
   "source": [
    "# 1. 使用VibrationDataLoader将TXT文件转换为CSV\n",
    "logger.info(\"开始将TXT文件转换为CSV格式\")\n",
    "VibrationDataLoader.convert_txt_to_csv_batch(\n",
    "    \"./input/data\",  # 包含TXT文件的输入文件夹\n",
    "    \"./output/data_csv\"  # CSV文件的输出文件夹\n",
    ")"
   ]
  },
  {
   "cell_type": "code",
   "execution_count": null,
   "metadata": {},
   "outputs": [],
   "source": [
    "# 2. 使用StartIdxVisualizedSelect进行起始点选择\n",
    "logger.info(\"开始进行数据起始点选择\")\n",
    "processor_idx = StartIdxVisualizedSelect(\n",
    "    \"./output/data_csv\",  # 包含CSV文件的输入文件夹\n",
    "    \"./output/data_csv_start-idx-reselected\"  # 处理后文件的输出文件夹\n",
    ")\n",
    "processor_idx.run()"
   ]
  },
  {
   "cell_type": "code",
   "execution_count": null,
   "metadata": {},
   "outputs": [],
   "source": [
    "# 3. 使用debias_csv_folder进行数据去偏处理\n",
    "logger.info(\"开始进行数据去偏处理\")\n",
    "debias_csv_folder(\n",
    "    \"./output/data_csv_start-idx-reselected\",  # 选择起始点后的输入文件夹 \n",
    "    \"./output/data_csv_start-idx-reselected_debiased\",  # 去偏后数据的输出文件夹\n",
    "    truncate_to_min=True  # 将所有文件截断至最短文件的长度\n",
    ")\n",
    "\n"
   ]
  },
  {
   "cell_type": "code",
   "execution_count": null,
   "metadata": {},
   "outputs": [],
   "source": [
    "# 4. 使用DataProcessor处理数据并组织为网格结构\n",
    "logger.info(\"开始处理数据并组织为网格结构\")\n",
    "processor = DataProcessor(\n",
    "    input_folder=\"./output/data_csv_start-idx-reselected_debiased\",  # 修改为去偏后的数据目录\n",
    "    rows=6,  # 根据数据布局调整行数\n",
    "    cols=6,  # 根据数据布局调整列数\n",
    "    sampling_points=500,  # 采样点数量\n",
    "    use_all_points=False  # 是否使用所有点,默认是False,如果为True,则使用所有点，忽略采样点数量\n",
    ")\n",
    "processor_use_all_points = DataProcessor(\n",
    "    input_folder=\"./output/data_csv_start-idx-reselected_debiased\",  # 修改为去偏后的数据目录\n",
    "    rows=6,  # 根据数据布局调整行数\n",
    "    cols=6,  # 根据数据布局调整列数\n",
    "    use_all_points=True  # 是否使用所有点,默认是False,如果为True,则使用所有点，忽略采样点数量\n",
    ")\n",
    "# 5. 保存处理后的数据\n",
    "processor.save_processed_data(\"./output/my_processed_data.npz\")\n",
    "logger.info(\"数据已处理并保存到./output/my_processed_data.npz\")\n",
    "processor_use_all_points.save_processed_data(\"./output/my_processed_data_use_all_points.npz\")\n",
    "logger.info(\"数据已处理并保存到./output/my_processed_data_use_all_points.npz\")\n",
    "\n"
   ]
  },
  {
   "cell_type": "code",
   "execution_count": null,
   "metadata": {},
   "outputs": [],
   "source": [
    "# 6. 创建可视化\n",
    "logger.info(\"开始生成可视化\")\n",
    "processed_data = processor.get_processed_data()\n",
    "\n",
    "\n",
    "# 分析数据中的最小值和最大值\n",
    "grid_data = processed_data['grid_data']\n",
    "data_min = grid_data.min()\n",
    "data_max = grid_data.max()\n",
    "logger.info(f\"数据范围: {data_min:.6f} 到 {data_max:.6f}\")\n",
    "\n",
    "# 定义所有可视化使用的统一颜色范围，可以先不设置，后面每个具体的图单独设置\n",
    "viz_gen = VisualizationGenerator(\n",
    "    processed_data=processed_data,\n",
    "    colormap=\"viridis\",  # 颜色映射\n",
    "    output_folder=\"./output\",  # 输出文件夹\n",
    "    vmin=None,  # 设置颜色范围最小值，None表示使用现有数据的最小值\n",
    "    vmax=None   # 设置颜色范围最大值，None表示使用现有数据的最大值\n",
    ")\n"
   ]
  },
  {
   "cell_type": "code",
   "execution_count": null,
   "metadata": {},
   "outputs": [],
   "source": [
    "# 7. 生成指定时间点的热图\n",
    "specific_time = 0.5  # 指定0.5秒时刻\n",
    "viz_gen.generate_heatmap_at_time(\n",
    "    target_time=specific_time,\n",
    "    output_file=None, # 指定热图的输出文件名，可以不指定，默认是\"heatmap_time_{target_time:.4f}_{timestamp}.png\"\n",
    "    title=None, # 指定热图的标题，可以不指定，默认是“Signal Intensity at Specific \\n Time :t=0.50s”\n",
    "    vmin=None,  # 指定颜色范围最小值，None表示使用现有数据的最小值\n",
    "    vmax=None   # 指定颜色范围最大值，None表示使用现有数据的最大值\n",
    ")"
   ]
  },
  {
   "cell_type": "code",
   "execution_count": null,
   "metadata": {},
   "outputs": [],
   "source": [
    "# 8. 生成指定时间点和角度的3D表面图\n",
    "logger.info(\"生成指定时间点的3D表面图\")\n",
    "viz_gen.generate_3d_surface_at_time(\n",
    "    target_time=specific_time,\n",
    "    output_file=None, # 指定3D表面图的输出文件名，可以不指定，默认是\"3d_surface_time_{target_time:.4f}_{timestamp}.png\"\n",
    "    title=f\"时刻 {specific_time:.2f}s 3D表面图\",  # 指定3D表面图的标题\n",
    "    vmin=None,  # 指定颜色范围最小值，None表示使用现有数据的最小值\n",
    "    vmax=None   # 指定颜色范围最大值，None表示使用现有数据的最大值\n",
    ")"
   ]
  },
  {
   "cell_type": "code",
   "execution_count": null,
   "metadata": {},
   "outputs": [],
   "source": [
    "# 9. 生成不旋转的指定角度的3D表面视频\n",
    "logger.info(\"生成固定视角的3D表面视频\")\n",
    "viz_gen.generate_3d_surface_video(\n",
    "    rotate_view=False,  # 不旋转视角\n",
    "    initial_elev=45,   # 初始俯仰角度\n",
    "    initial_azim=45,   # 初始方位角度\n",
    "    add_timestamp=True,  # 添加时间戳\n",
    "    vmin=None,  # 指定颜色范围最小值，None表示使用现有数据的最小值\n",
    "    vmax=None,   # 指定颜色范围最大值，None表示使用现有数据的最大值\n",
    "    output_file=\"surface3d_fixed_view_elev45_azim45.mp4\",\n",
    "    title=\"固定视角的3D表面动画\"\n",
    ")\n"
   ]
  },
  {
   "cell_type": "code",
   "execution_count": null,
   "metadata": {},
   "outputs": [],
   "source": [
    "# 10. 生成热图视频\n",
    "logger.info(\"生成热图视频\")\n",
    "viz_gen.generate_heatmap_video(\n",
    "    output_file=\"heatmap_animation.mp4\",\n",
    "    title=\"振动信号热图动画\",\n",
    "    add_timestamp=True,  # 添加时间戳\n",
    "    add_colorbar=True,   # 添加颜色条\n",
    "    vmin=None,  # 指定颜色范围最小值，None表示使用现有数据的最小值\n",
    "    vmax=None   # 指定颜色范围最大值，None表示使用现有数据的最大值\n",
    ")"
   ]
  },
  {
   "cell_type": "code",
   "execution_count": null,
   "metadata": {},
   "outputs": [],
   "source": [
    "# 11. 生成带剖面图的热图视频\n",
    "logger.info(\"生成带剖面图的热图视频\")\n",
    "viz_gen.generate_heatmap_with_profiles_video(\n",
    "    output_file=\"heatmap_with_profiles.mp4\",\n",
    "    title=\"带剖面图的热图动画\",\n",
    "    add_timestamp=True,  # 添加时间戳\n",
    "    vmin=None,  # 指定颜色范围最小值，None表示使用现有数据的最小值\n",
    "    vmax=None   # 指定颜色范围最大值，None表示使用现有数据的最大值\n",
    ")"
   ]
  },
  {
   "cell_type": "code",
   "execution_count": null,
   "metadata": {},
   "outputs": [],
   "source": [
    "# 12. 使用extract_timepoint提取特定时间点的数据\n",
    "logger.info(\"使用extract_timepoint提取特定时间点的数据\")\n",
    "\n",
    "# 12.1 提取特定时间点的数据\n",
    "# 这里注意为了更好的时间分辨率，这里使用my_processed_data_use_all_points.npz，\n",
    "# 而不是my_processed_data.npz，因为my_processed_data.npz的采样点数量是500，\n",
    "# 而my_processed_data_use_all_points.npz使用了所有的原始数据点\n",
    "extracted_time, extracted_data, metadata = extract_timepoint_data(\n",
    "    \"./output/my_processed_data_use_all_points.npz\",\n",
    "    target_time=1.0  # 目标时间点为1.0秒\n",
    ")\n",
    "\n",
    "\n",
    "# 12.2 可视化提取的数据\n",
    "fig = visualize_grid(\n",
    "    extracted_time,\n",
    "    extracted_data,\n",
    "    title=f\"时刻 {extracted_time:.2e}s 的数据\",\n",
    "    filename_grid=metadata.get('filename_grid'),\n",
    "    vmin=None,  # 指定颜色范围最小值，None表示使用现有数据的最小值\n",
    "    vmax=None   # 指定颜色范围最大值，None表示使用现有数据的最大值\n",
    ")\n",
    "\n",
    "# 保存图像\n",
    "fig.savefig(f\"output/extracted_time_{extracted_time:.2e}s.png\", dpi=300)\n",
    "logger.info(f\"已保存时间点 {extracted_time:.2e}s 的提取数据可视化\")\n",
    "\n",
    "# 12.3 将提取的数据保存为CSV\n",
    "# 构建保存的数据\n",
    "csv_data = pd.DataFrame(extracted_data)\n",
    "csv_file = f\"./output/extracted_time_{extracted_time:.2e}s.csv\"\n",
    "csv_data.to_csv(csv_file)\n",
    "\n",
    "logger.info(f\"已保存时间点 {extracted_time:.2e}s 的数据到CSV: {csv_file}\")\n",
    "\n",
    "# 保存filename_grid\n",
    "export_filename_grid(metadata, f\"./output/extracted_time_{extracted_time:.2e}s_filename_grid.csv\")\n",
    "logger.info(\"数据处理和可视化完成\") "
   ]
  },
  {
   "cell_type": "code",
   "execution_count": null,
   "metadata": {},
   "outputs": [],
   "source": []
  }
 ],
 "metadata": {
  "kernelspec": {
   "display_name": "MachineLerning_Pytorch",
   "language": "python",
   "name": "python3"
  },
  "language_info": {
   "codemirror_mode": {
    "name": "ipython",
    "version": 3
   },
   "file_extension": ".py",
   "mimetype": "text/x-python",
   "name": "python",
   "nbconvert_exporter": "python",
   "pygments_lexer": "ipython3",
   "version": "3.11.10"
  }
 },
 "nbformat": 4,
 "nbformat_minor": 2
}
