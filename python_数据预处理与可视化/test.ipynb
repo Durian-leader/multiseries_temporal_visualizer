{
 "cells": [
  {
   "cell_type": "code",
   "execution_count": null,
   "metadata": {},
   "outputs": [],
   "source": [
    "from wavelet_denoise import WaveletDenoiser\n",
    "from vibration_loader import VibrationDataLoader  # 你自己的主文件\n",
    "\n",
    "loader = VibrationDataLoader.from_txt(\"your_file_path.txt\")\n",
    "denoiser = WaveletDenoiser(wavelet='db4', level=2)\n",
    "denoised_data = denoiser.denoise_dataframe(loader.data, columns=[\"Channel1\", \"Channel2\"])\n",
    "loader.data = denoised_data  # 可替换原始数据或另存新变量"
   ]
  },
  {
   "cell_type": "code",
   "execution_count": null,
   "metadata": {},
   "outputs": [],
   "source": [
    "# 读取npz\n",
    "import numpy as np\n",
    "data = np.load('output/legacy/my_processed_data_use_all_points.npz')\n",
    "print(data.files)"
   ]
  },
  {
   "cell_type": "code",
   "execution_count": null,
   "metadata": {},
   "outputs": [],
   "source": [
    "import os\n",
    "from utils.dataprocess.vibration_data_loader import VibrationDataLoader  \n",
    "from utils.dataprocess.wavelet_denoise import WaveletDenoiser\n",
    "from utils.dataprocess.start_idx_visualized_select import StartIdxVisualizedSelect\n",
    "from utils.dataprocess.debiasing import debias_csv_folder\n",
    "from utils.visualize.data_processor import DataProcessor\n",
    "from utils.visualize.visualization_generator import VisualizationGenerator\n",
    "from loguru import logger\n",
    "import sys\n",
    "from utils.visualize.extract_timepoint import extract_timepoint_data, visualize_grid,export_filename_grid\n",
    "import pandas as pd\n",
    "import matplotlib\n",
    "# Set up the matplotlib backend explicitly\n",
    "# matplotlib.use('TkAgg')  # Use TkAgg backend which has good button support\n",
    "%matplotlib inline\n",
    "import matplotlib.pyplot as plt\n",
    "# 配置日志记录\n",
    "logger.configure(handlers=[{\"sink\": sys.stdout, \"level\": \"INFO\"},\n",
    "                           {\"sink\": \"logs/log.log\", \"level\": \"INFO\"}])\n",
    "\n",
    "# 确保输出目录存在\n",
    "os.makedirs('output', exist_ok=True)\n",
    "os.makedirs('logs', exist_ok=True)\n",
    "os.makedirs('output/data_csv', exist_ok=True)\n",
    "os.makedirs('output/data_csv_start-idx-reselected', exist_ok=True)\n",
    "os.makedirs('output/data_csv_start-idx-reselected_debiased', exist_ok=True)\n",
    "\n",
    "\n",
    "# from wavelet_denoise import WaveletDenoiser\n",
    "import pandas as pd\n",
    "\n",
    "df = pd.read_csv(\"output/data_csv/54.csv\")\n",
    "# 只保留低频节点 'a'（一级），或者更深层次的如 'aa', 'aaa'（更平滑趋势）\n",
    "denoiser = WaveletDenoiser(wavelet='db6', level=6, keep_nodes=['aaaaaa'])  \n",
    "denoised_df = denoiser.denoise_dataframe(df, columns=[\"Time Signal\"])\n",
    "fs = 1/df[\"Time\"].diff().mean()  # 采样频率，单位 Hz\n",
    "logger.info(f\"采样频率是: {fs} Hz\")\n",
    "# 可视化对比\n",
    "denoiser.plot_denoise_comparison(df, denoised_df, column=\"Time Signal\", time_column=\"Time\")\n",
    "denoiser.plot_denoise_overlay(df, denoised_df, column=\"Time Signal\", time_column=\"Time\")\n",
    "selected = denoiser.auto_select_trend_nodes(\n",
    "    signal=df[\"Time Signal\"].values,\n",
    "    threshold_ratio=0.05,\n",
    "    fs=fs,            # 采样频率，单位 Hz\n",
    "    plot=\"band\"         # 展示频带分布图，可选 \"bar\" 或 None\n",
    ")\n",
    "logger.info(f\"自动选择的趋势节点: {selected}\")\n",
    "# 假设你对 level = 6，想看第 0 个路径（从 0 开始计）\n",
    "freq_range = denoiser.get_node_frequency_range(node_index=0, fs=fs)\n",
    "logger.info(f\"路径 0 的频率范围是: {freq_range[0]:.2f} Hz 到 {freq_range[1]:.2f} Hz\")\n"
   ]
  },
  {
   "cell_type": "code",
   "execution_count": null,
   "metadata": {},
   "outputs": [],
   "source": [
    "import pywt\n",
    "import pandas as pd\n",
    "wp = pywt.WaveletPacket(data=df[\"Time Signal\"].values, wavelet='db6', maxlevel=9)\n",
    "print([node.path for node in wp.get_level(9, 'freq')])"
   ]
  }
 ],
 "metadata": {
  "kernelspec": {
   "display_name": "MachineLerning_Pytorch",
   "language": "python",
   "name": "python3"
  },
  "language_info": {
   "codemirror_mode": {
    "name": "ipython",
    "version": 3
   },
   "file_extension": ".py",
   "mimetype": "text/x-python",
   "name": "python",
   "nbconvert_exporter": "python",
   "pygments_lexer": "ipython3",
   "version": "3.11.10"
  }
 },
 "nbformat": 4,
 "nbformat_minor": 2
}
